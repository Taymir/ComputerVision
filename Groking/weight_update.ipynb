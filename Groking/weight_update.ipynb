{
 "cells": [
  {
   "cell_type": "code",
   "execution_count": 11,
   "metadata": {},
   "outputs": [
    {
     "name": "stdout",
     "output_type": "stream",
     "text": [
      "Error: 0.160000, prediction: 1.600000\n",
      "Error: 0.057600, prediction: 1.760000\n",
      "Error: 0.020736, prediction: 1.856000\n",
      "Error: 0.007465, prediction: 1.913600\n",
      "Error: 0.002687, prediction: 1.948160\n",
      "Error: 0.000967, prediction: 1.968896\n",
      "Error: 0.000348, prediction: 1.981338\n",
      "Error: 0.000125, prediction: 1.988803\n",
      "Error: 0.000045, prediction: 1.993282\n",
      "Error: 0.000016, prediction: 1.995969\n",
      "Error: 0.000006, prediction: 1.997581\n",
      "Error: 0.000002, prediction: 1.998549\n",
      "Error: 0.000001, prediction: 1.999129\n",
      "Error: 0.000000, prediction: 1.999478\n",
      "Error: 0.000000, prediction: 1.999687\n",
      "Error: 0.000000, prediction: 1.999812\n",
      "Error: 0.000000, prediction: 1.999887\n",
      "Error: 0.000000, prediction: 1.999932\n",
      "Error: 0.000000, prediction: 1.999959\n",
      "Error: 0.000000, prediction: 1.999976\n"
     ]
    }
   ],
   "source": [
    "input = 2\n",
    "weight = 0.8\n",
    "goal = 2\n",
    "\n",
    "alpha = 0.1\n",
    "epochs = 20\n",
    "\n",
    "for i in range(epochs):\n",
    "    pred = input * weight\n",
    "    error = (pred - goal) ** 2\n",
    "    derivative = input * (pred - goal)\n",
    "    weight -= alpha * derivative\n",
    "    print (\"Error: %f, prediction: %f\" % (error, pred))\n",
    "        \n"
   ]
  },
  {
   "cell_type": "code",
   "execution_count": null,
   "metadata": {},
   "outputs": [],
   "source": []
  }
 ],
 "metadata": {
  "kernelspec": {
   "display_name": "Python 3",
   "language": "python",
   "name": "python3"
  },
  "language_info": {
   "codemirror_mode": {
    "name": "ipython",
    "version": 3
   },
   "file_extension": ".py",
   "mimetype": "text/x-python",
   "name": "python",
   "nbconvert_exporter": "python",
   "pygments_lexer": "ipython3",
   "version": "3.7.3"
  }
 },
 "nbformat": 4,
 "nbformat_minor": 4
}
